{
 "cells": [
  {
   "cell_type": "markdown",
   "id": "bac95421-9790-480b-9d11-947e05e4de3e",
   "metadata": {},
   "source": [
    "# Chemical data analysis and visualization (part 3 - WQI)"
   ]
  },
  {
   "cell_type": "markdown",
   "id": "a9e4b8b0-3b0a-4ad0-a968-041e618a472a",
   "metadata": {},
   "source": [
    "### Library imports"
   ]
  },
  {
   "cell_type": "code",
   "execution_count": 2,
   "id": "bf12ad2a-774c-4def-b8c8-c6ce63effff3",
   "metadata": {
    "tags": []
   },
   "outputs": [],
   "source": [
    "library(openxlsx)\n",
    "library(tidyverse)"
   ]
  },
  {
   "cell_type": "markdown",
   "id": "7dd87ae5-a822-4c1a-9aed-93e33808e84b",
   "metadata": {},
   "source": [
    "### 1. Importing the chemical data\n",
    "Detailed explanation in [chemical_data1.ipynb](chemical_data1.ipynb)"
   ]
  },
  {
   "cell_type": "code",
   "execution_count": 3,
   "id": "f3435a21-13bc-4bfd-a34c-31a0eb08f0e0",
   "metadata": {
    "tags": []
   },
   "outputs": [],
   "source": [
    "df <- openxlsx::read.xlsx(\"data/chemical_data.xlsx\",sheet=1)\n",
    "df[\"sampling.date\"] <- openxlsx::convertToDate(df[[\"sampling.date\"]])"
   ]
  },
  {
   "cell_type": "markdown",
   "id": "9b481198-0cb1-4863-8b8d-9d2a2372464b",
   "metadata": {},
   "source": [
    "### 2. Computing the Water Quality Index (WQI)"
   ]
  },
  {
   "cell_type": "code",
   "execution_count": 4,
   "id": "a096e8f5-9161-40d1-ac6f-cf7d89e20df7",
   "metadata": {
    "tags": []
   },
   "outputs": [],
   "source": [
    "# function determining the WQI\n",
    "fWQI <- function(par,Va,Vi,Si,has.rec = rep(TRUE,length(par)),use.only.rec = FALSE){\n",
    "    Wi <- rep(NA,length(par))\n",
    "    names(Wi) <- par\n",
    "    qi <- rep(NA,length(par))\n",
    "    names(qi) <- par\n",
    "    \n",
    "    for (i in 1:(length(par))){    \n",
    "       p <- par[[i]]\n",
    "       if (use.only.rec==TRUE){\n",
    "         if (has.rec[[p]]==FALSE){\n",
    "             #print(c(p,has.rec[[p]]))\n",
    "             next\n",
    "         }\n",
    "       }        \n",
    "       si <-  Si[[p]]\n",
    "       vi <- Vi[[p]] \n",
    "       va <- Va[[p]]\n",
    "       if (p==\"pH\"){\n",
    "         if (va > vi) {  \n",
    "            si <- si[2]\n",
    "         } else {\n",
    "            si <- si[1]\n",
    "         }        \n",
    "       } \n",
    "        \n",
    "       Wi[[p]] <- k[[p]]/si   \n",
    "       qi[[p]] <- 100*(va - vi)/(si - vi)    \n",
    "    }\n",
    "    WQI <- sum(Wi*qi,na.rm = TRUE)/sum(Wi,na.rm = TRUE)\n",
    "    return(WQI)\n",
    "}"
   ]
  },
  {
   "cell_type": "code",
   "execution_count": 5,
   "id": "8d855465-a97b-4cb5-88a4-1c9bd3993ce0",
   "metadata": {},
   "outputs": [
    {
     "data": {
      "text/html": [
       "<table class=\"dataframe\">\n",
       "<caption>A data.frame: 6 × 5</caption>\n",
       "<thead>\n",
       "\t<tr><th></th><th scope=col>measurement.series</th><th scope=col>series</th><th scope=col>water.source.type</th><th scope=col>WQI</th><th scope=col>WQI.class</th></tr>\n",
       "\t<tr><th></th><th scope=col>&lt;chr&gt;</th><th scope=col>&lt;chr&gt;</th><th scope=col>&lt;chr&gt;</th><th scope=col>&lt;dbl&gt;</th><th scope=col>&lt;chr&gt;</th></tr>\n",
       "</thead>\n",
       "<tbody>\n",
       "\t<tr><th scope=row>1</th><td>MAD_A</td><td>MAD1</td><td>lake     </td><td> 47.43821</td><td>Good      </td></tr>\n",
       "\t<tr><th scope=row>2</th><td>MAD_A</td><td>MAD2</td><td>lake     </td><td> 12.64413</td><td>Excellent </td></tr>\n",
       "\t<tr><th scope=row>3</th><td>MAD_A</td><td>MAD3</td><td>lake     </td><td> 13.20005</td><td>Excellent </td></tr>\n",
       "\t<tr><th scope=row>4</th><td>MAD_A</td><td>MAD4</td><td>deep well</td><td> 11.33364</td><td>Excellent </td></tr>\n",
       "\t<tr><th scope=row>5</th><td>MAD_A</td><td>MAD5</td><td>river    </td><td>174.03041</td><td>Unsuitable</td></tr>\n",
       "\t<tr><th scope=row>6</th><td>MAD_A</td><td>MAD6</td><td>deep well</td><td> 18.85272</td><td>Excellent </td></tr>\n",
       "</tbody>\n",
       "</table>\n"
      ],
      "text/latex": [
       "A data.frame: 6 × 5\n",
       "\\begin{tabular}{r|lllll}\n",
       "  & measurement.series & series & water.source.type & WQI & WQI.class\\\\\n",
       "  & <chr> & <chr> & <chr> & <dbl> & <chr>\\\\\n",
       "\\hline\n",
       "\t1 & MAD\\_A & MAD1 & lake      &  47.43821 & Good      \\\\\n",
       "\t2 & MAD\\_A & MAD2 & lake      &  12.64413 & Excellent \\\\\n",
       "\t3 & MAD\\_A & MAD3 & lake      &  13.20005 & Excellent \\\\\n",
       "\t4 & MAD\\_A & MAD4 & deep well &  11.33364 & Excellent \\\\\n",
       "\t5 & MAD\\_A & MAD5 & river     & 174.03041 & Unsuitable\\\\\n",
       "\t6 & MAD\\_A & MAD6 & deep well &  18.85272 & Excellent \\\\\n",
       "\\end{tabular}\n"
      ],
      "text/markdown": [
       "\n",
       "A data.frame: 6 × 5\n",
       "\n",
       "| <!--/--> | measurement.series &lt;chr&gt; | series &lt;chr&gt; | water.source.type &lt;chr&gt; | WQI &lt;dbl&gt; | WQI.class &lt;chr&gt; |\n",
       "|---|---|---|---|---|---|\n",
       "| 1 | MAD_A | MAD1 | lake      |  47.43821 | Good       |\n",
       "| 2 | MAD_A | MAD2 | lake      |  12.64413 | Excellent  |\n",
       "| 3 | MAD_A | MAD3 | lake      |  13.20005 | Excellent  |\n",
       "| 4 | MAD_A | MAD4 | deep well |  11.33364 | Excellent  |\n",
       "| 5 | MAD_A | MAD5 | river     | 174.03041 | Unsuitable |\n",
       "| 6 | MAD_A | MAD6 | deep well |  18.85272 | Excellent  |\n",
       "\n"
      ],
      "text/plain": [
       "  measurement.series series water.source.type WQI       WQI.class \n",
       "1 MAD_A              MAD1   lake               47.43821 Good      \n",
       "2 MAD_A              MAD2   lake               12.64413 Excellent \n",
       "3 MAD_A              MAD3   lake               13.20005 Excellent \n",
       "4 MAD_A              MAD4   deep well          11.33364 Excellent \n",
       "5 MAD_A              MAD5   river             174.03041 Unsuitable\n",
       "6 MAD_A              MAD6   deep well          18.85272 Excellent "
      ]
     },
     "metadata": {},
     "output_type": "display_data"
    }
   ],
   "source": [
    "par <- c(\"pH\",\"F\",\"Cl\",\"NO3\",\"SO4\",\"PO4\",\"Na\",\"K\",\"NH4\",\"Ca2\",\"Mg2\",\"TOC\",\"conductivity\") # parameter name\n",
    "Vi <- c(\"pH\"=7,\"F\"=0, \"Cl\"=0,\"NO3\"=0,\"SO4\"=0,\"PO4\"=0,\"Na\"=0,\"K\"=0,\"NH4\"=0,\"Ca2\"=0,\"Mg2\"=0, \"TOC\"=0,\"conductivity\"=0) # ideal value in water\n",
    "Si <- list(\"pH\"=c(6.5,8.5),\"F\"=1.5,\"Cl\"=250,\"NO3\"=10,\"SO4\"=250,\"PO4\"=0.09,\"Na\"=200,\"K\"=30,\"NH4\"=35,\"Ca2\"=200,\"Mg2\"=150, \"TOC\"=0.03,\"conductivity\"=2000) # standard parameter value\n",
    "k <- c(\"pH\"=1,\"F\"=1, \"Cl\"=1,\"NO3\"=1,\"SO4\"=1,\"PO4\"=1,\"Na\"=1,\"K\"=1,\"NH4\"=1,\"Ca2\"=1,\"Mg2\"=1, \"TOC\"=1,\"conductivity\"=1) # proportionality constant\n",
    "has.rec <- c(\"pH\"=TRUE,\"F\"=TRUE,\"Cl\"=TRUE,\"NO3\"=TRUE,\"SO4\"=TRUE,\"PO4\"=FALSE,\"Na\"=TRUE,\"K\"=TRUE,\"NH4\"=TRUE,\"Ca2\"=TRUE,\"Mg2\"=TRUE,\"TOC\"=FALSE,\"conductivity\"=TRUE)\n",
    "\n",
    "\n",
    "Va <- rep(NA,length(par))\n",
    "names(Va) <- par\n",
    "\n",
    "WQI <- NULL\n",
    "WQI_all <- NULL\n",
    "\n",
    "WQI.class <- NULL\n",
    "\n",
    "for (i in 1:nrow(df)){\n",
    "    \n",
    "    for (p in par){\n",
    "        Va[[p]] <- df[[i,p]]\n",
    "    }\n",
    "    \n",
    "    wqi <- fWQI(par,Va,Vi,Si,has.rec,use.only.rec = TRUE)\n",
    "    WQI <- c(WQI,wqi)\n",
    "    \n",
    "    wqi.class <- NA\n",
    "    if (wqi < 26) { \n",
    "        wqi.class <- \"Excellent\" \n",
    "    } else if (wqi < 51) {\n",
    "        wqi.class <- \"Good\" \n",
    "    }  else if (wqi < 76) {\n",
    "        wqi.class <- \"Poor\" \n",
    "    } else if (wqi < 100) {\n",
    "        wqi.class <- \"Very poor\" \n",
    "    } else {\n",
    "        wqi.class <- \"Unsuitable\"\n",
    "    }\n",
    "    \n",
    "    WQI.class <- c(WQI.class,wqi.class)\n",
    "   # WQI_all <- c(WQI_all,fWQI(par,Va,Vi,Si,has.rec,use.only.rec = FALSE))\n",
    "}\n",
    "\n",
    "df.WQI <- data.frame(measurement.series = df[['measurement.series']],series = df[['water.source.type.flag']],water.source.type = df[['water.source.type']],WQI,WQI.class)\n",
    "#openxlsx::write.xlsx(df.WQI,\"WQI.xlsx\")\n",
    "head(df.WQI)"
   ]
  },
  {
   "cell_type": "code",
   "execution_count": 6,
   "id": "b68a6032-20ea-4621-bfde-e8a61833fc2e",
   "metadata": {
    "tags": []
   },
   "outputs": [
    {
     "name": "stderr",
     "output_type": "stream",
     "text": [
      "\u001b[1m\u001b[22m`stat_bin()` using `bins = 30`. Pick better value with `binwidth`.\n"
     ]
    },
    {
     "data": {
      "image/png": "[encoded data removed]",
      "text/plain": [
       "plot without title"
      ]
     },
     "metadata": {
      "image/png": {
       "height": 420,
       "width": 420
      }
     },
     "output_type": "display_data"
    }
   ],
   "source": [
    "ggplot(df.WQI,aes(x=WQI)) + geom_histogram()"
   ]
  },
  {
   "cell_type": "code",
   "execution_count": 7,
   "id": "d3152c71-aa18-474e-8df1-5433a060bd54",
   "metadata": {
    "tags": []
   },
   "outputs": [
    {
     "data": {
      "text/plain": [
       "\n",
       "\tShapiro-Wilk normality test\n",
       "\n",
       "data:  df.WQI$WQI\n",
       "W = 0.78495, p-value = 4.54e-05\n"
      ]
     },
     "metadata": {},
     "output_type": "display_data"
    }
   ],
   "source": [
    "shapiro.test(df.WQI$WQI)"
   ]
  },
  {
   "cell_type": "code",
   "execution_count": 8,
   "id": "6a619437-106c-4d5b-8050-0a842ae4ddf2",
   "metadata": {
    "tags": []
   },
   "outputs": [
    {
     "data": {
      "text/html": [
       "<table class=\"dataframe\">\n",
       "<caption>A tibble: 4 × 3</caption>\n",
       "<thead>\n",
       "\t<tr><th scope=col>measurement.series</th><th scope=col>mean</th><th scope=col>se</th></tr>\n",
       "\t<tr><th scope=col>&lt;chr&gt;</th><th scope=col>&lt;dbl&gt;</th><th scope=col>&lt;dbl&gt;</th></tr>\n",
       "</thead>\n",
       "<tbody>\n",
       "\t<tr><td>MAD_A</td><td> 46.24986</td><td>26.153816</td></tr>\n",
       "\t<tr><td>MAD_B</td><td>121.83797</td><td>27.513187</td></tr>\n",
       "\t<tr><td>RWA  </td><td> 46.98417</td><td> 7.846436</td></tr>\n",
       "\t<tr><td>UGA  </td><td> 43.09336</td><td> 9.696218</td></tr>\n",
       "</tbody>\n",
       "</table>\n"
      ],
      "text/latex": [
       "A tibble: 4 × 3\n",
       "\\begin{tabular}{lll}\n",
       " measurement.series & mean & se\\\\\n",
       " <chr> & <dbl> & <dbl>\\\\\n",
       "\\hline\n",
       "\t MAD\\_A &  46.24986 & 26.153816\\\\\n",
       "\t MAD\\_B & 121.83797 & 27.513187\\\\\n",
       "\t RWA   &  46.98417 &  7.846436\\\\\n",
       "\t UGA   &  43.09336 &  9.696218\\\\\n",
       "\\end{tabular}\n"
      ],
      "text/markdown": [
       "\n",
       "A tibble: 4 × 3\n",
       "\n",
       "| measurement.series &lt;chr&gt; | mean &lt;dbl&gt; | se &lt;dbl&gt; |\n",
       "|---|---|---|\n",
       "| MAD_A |  46.24986 | 26.153816 |\n",
       "| MAD_B | 121.83797 | 27.513187 |\n",
       "| RWA   |  46.98417 |  7.846436 |\n",
       "| UGA   |  43.09336 |  9.696218 |\n",
       "\n"
      ],
      "text/plain": [
       "  measurement.series mean      se       \n",
       "1 MAD_A               46.24986 26.153816\n",
       "2 MAD_B              121.83797 27.513187\n",
       "3 RWA                 46.98417  7.846436\n",
       "4 UGA                 43.09336  9.696218"
      ]
     },
     "metadata": {},
     "output_type": "display_data"
    },
    {
     "data": {
      "image/png": "[encoded data removed]",
      "text/plain": [
       "plot without title"
      ]
     },
     "metadata": {
      "image/png": {
       "height": 420,
       "width": 600
      }
     },
     "output_type": "display_data"
    }
   ],
   "source": [
    "tmp.dfWQI <- df.WQI %>% group_by(measurement.series) %>% summarize(mean=mean(WQI),se=(function(x) {return(sd(x)/sqrt(length(x)))})(WQI))\n",
    "tmp.dfWQI\n",
    "\n",
    "options(repr.plot.height=7,repr.plot.width=10)\n",
    "ggplot(tmp.dfWQI) + \n",
    "             geom_hline(yintercept = 25,color=\"darkgray\",linewidth=0.75) +\n",
    "             geom_hline(yintercept = 50,color=\"darkgray\",linewidth=0.75) +\n",
    "             geom_hline(yintercept = 75,color=\"darkgray\",linewidth=0.75) +\n",
    "             geom_hline(yintercept = 100,color=\"darkgray\",linewidth=0.75) +\n",
    "\n",
    "             geom_point(data=df.WQI,aes(x=measurement.series,y=WQI,fill=water.source.type),size=3,shape=21) + \n",
    "             geom_path(aes(x=measurement.series,y=mean,group=1))+\n",
    "             geom_errorbar(aes(x=measurement.series,ymin=mean-se, ymax=mean+se), width=.3)+\n",
    "             guides(fill=guide_legend(title=\"water source type\"))+\n",
    "             xlab(\"measurement series\") + ylab(\"WQI [-]\") + \n",
    "\n",
    "scale_y_continuous(breaks=c(0,25,50,75,100,200,300)) +\n",
    "\n",
    "theme_bw() + theme(axis.text.x = element_text(size=18), panel.grid.minor = element_blank(),\n",
    "                   axis.text.y = element_text(size=18),\n",
    "                   axis.title = element_text(size=20),\n",
    "                #   legend.position=\"none\",\n",
    "                   legend.key.size = unit(2, 'cm'), #change legend key size\n",
    "                   legend.key.height = unit(1, 'cm'), #change legend key height\n",
    "                   legend.key.width = unit(1, 'cm'), #change legend key width\n",
    "                   legend.title = element_text(size=16), #change legend title font size\n",
    "                   legend.text = element_text(size=16),\n",
    "                  plot.margin = unit(c(1,1,1,1), \"cm\")) \n",
    "\n",
    "\n",
    "#ggsave(paste0(img.path,\"WQI_mean_plot.tiff\"),height=7,width=10,dpi=600,compression=\"lzw\",bg=\"white\")\n",
    "#ggsave(paste0(img.path,\"WQI_mean_plot.png\"),height=7,width=10,dpi=150,bg=\"white\")"
   ]
  },
  {
   "cell_type": "code",
   "execution_count": 9,
   "id": "20482d3c-ff50-44e7-9eb2-5c04bb5de015",
   "metadata": {
    "tags": []
   },
   "outputs": [
    {
     "data": {
      "text/plain": [
       "\n",
       "\tKruskal-Wallis rank sum test\n",
       "\n",
       "data:  WQI by measurement.series\n",
       "Kruskal-Wallis chi-squared = 7.9032, df = 3, p-value = 0.04805\n"
      ]
     },
     "metadata": {},
     "output_type": "display_data"
    }
   ],
   "source": [
    "kruskal.test(WQI ~ measurement.series, data = df.WQI)"
   ]
  },
  {
   "cell_type": "code",
   "execution_count": 10,
   "id": "bec764c8-7406-4ea3-8d4e-7f3a53e368a4",
   "metadata": {
    "tags": []
   },
   "outputs": [
    {
     "data": {
      "text/plain": [
       "\n",
       "\tPairwise comparisons using Wilcoxon rank sum exact test \n",
       "\n",
       "data:  df.WQI$WQI and df.WQI$measurement.series \n",
       "\n",
       "      MAD_A MAD_B RWA \n",
       "MAD_B 0.14  -     -   \n",
       "RWA   0.31  0.25  -   \n",
       "UGA   0.31  0.14  0.73\n",
       "\n",
       "P value adjustment method: BH "
      ]
     },
     "metadata": {},
     "output_type": "display_data"
    }
   ],
   "source": [
    "pairwise.wilcox.test(df.WQI$WQI, df.WQI$measurement.series,p.adjust.method = \"BH\")"
   ]
  },
  {
   "cell_type": "code",
   "execution_count": 11,
   "id": "de2966c0-2096-4818-b84e-3c152bc00b62",
   "metadata": {
    "tags": []
   },
   "outputs": [
    {
     "data": {
      "text/html": [
       "<table class=\"dataframe\">\n",
       "<caption>A tibble: 6 × 3</caption>\n",
       "<thead>\n",
       "\t<tr><th scope=col>water.source.type</th><th scope=col>mean</th><th scope=col>se</th></tr>\n",
       "\t<tr><th scope=col>&lt;chr&gt;</th><th scope=col>&lt;dbl&gt;</th><th scope=col>&lt;dbl&gt;</th></tr>\n",
       "</thead>\n",
       "<tbody>\n",
       "\t<tr><td>deep well </td><td>109.39202</td><td>27.278761</td></tr>\n",
       "\t<tr><td>lake      </td><td> 36.07008</td><td>14.429513</td></tr>\n",
       "\t<tr><td>rain water</td><td> 36.98095</td><td>       NA</td></tr>\n",
       "\t<tr><td>river     </td><td> 95.41050</td><td>78.619914</td></tr>\n",
       "\t<tr><td>spring    </td><td> 58.35021</td><td> 2.331888</td></tr>\n",
       "\t<tr><td>tap water </td><td> 44.13609</td><td>11.443039</td></tr>\n",
       "</tbody>\n",
       "</table>\n"
      ],
      "text/latex": [
       "A tibble: 6 × 3\n",
       "\\begin{tabular}{lll}\n",
       " water.source.type & mean & se\\\\\n",
       " <chr> & <dbl> & <dbl>\\\\\n",
       "\\hline\n",
       "\t deep well  & 109.39202 & 27.278761\\\\\n",
       "\t lake       &  36.07008 & 14.429513\\\\\n",
       "\t rain water &  36.98095 &        NA\\\\\n",
       "\t river      &  95.41050 & 78.619914\\\\\n",
       "\t spring     &  58.35021 &  2.331888\\\\\n",
       "\t tap water  &  44.13609 & 11.443039\\\\\n",
       "\\end{tabular}\n"
      ],
      "text/markdown": [
       "\n",
       "A tibble: 6 × 3\n",
       "\n",
       "| water.source.type &lt;chr&gt; | mean &lt;dbl&gt; | se &lt;dbl&gt; |\n",
       "|---|---|---|\n",
       "| deep well  | 109.39202 | 27.278761 |\n",
       "| lake       |  36.07008 | 14.429513 |\n",
       "| rain water |  36.98095 |        NA |\n",
       "| river      |  95.41050 | 78.619914 |\n",
       "| spring     |  58.35021 |  2.331888 |\n",
       "| tap water  |  44.13609 | 11.443039 |\n",
       "\n"
      ],
      "text/plain": [
       "  water.source.type mean      se       \n",
       "1 deep well         109.39202 27.278761\n",
       "2 lake               36.07008 14.429513\n",
       "3 rain water         36.98095        NA\n",
       "4 river              95.41050 78.619914\n",
       "5 spring             58.35021  2.331888\n",
       "6 tap water          44.13609 11.443039"
      ]
     },
     "metadata": {},
     "output_type": "display_data"
    },
    {
     "data": {
      "image/png": "[encoded data removed]",
      "text/plain": [
       "plot without title"
      ]
     },
     "metadata": {
      "image/png": {
       "height": 420,
       "width": 600
      }
     },
     "output_type": "display_data"
    }
   ],
   "source": [
    "tmp.dfWQI <- df.WQI %>% group_by(water.source.type) %>% summarize(mean=mean(WQI),se=(function(x) {return(sd(x)/sqrt(length(x)))})(WQI))\n",
    "tmp.dfWQI\n",
    "\n",
    "options(repr.plot.height=7,repr.plot.width=10)\n",
    "ggplot(tmp.dfWQI) + \n",
    "             geom_point(data=df.WQI,aes(x=water.source.type,y=WQI,fill=measurement.series),size=3,shape=21) + \n",
    "             geom_path(aes(x=water.source.type,y=mean,group=1))+\n",
    "             geom_errorbar(aes(x=water.source.type,ymin=mean-se, ymax=mean+se), width=.3)+\n",
    "\n",
    "             guides(fill=guide_legend(title=\"measurement series\"))+\n",
    "             xlab(\"water source type\") + ylab(\"WQI [-]\") + \n",
    "theme_bw() + theme(axis.text.x = element_text(size=18),\n",
    "                   axis.text.y = element_text(size=18),\n",
    "                   axis.title = element_text(size=20),\n",
    "                #   legend.position=\"none\",\n",
    "                   legend.key.size = unit(2, 'cm'), #change legend key size\n",
    "                   legend.key.height = unit(1, 'cm'), #change legend key height\n",
    "                   legend.key.width = unit(1, 'cm'), #change legend key width\n",
    "                   legend.title = element_text(size=16), #change legend title font size\n",
    "                   legend.text = element_text(size=16),\n",
    "                  plot.margin = unit(c(1,1,1,1), \"cm\")) "
   ]
  },
  {
   "cell_type": "code",
   "execution_count": 12,
   "id": "0dd61503-45b3-4832-95ae-5f1583958443",
   "metadata": {
    "tags": []
   },
   "outputs": [
    {
     "data": {
      "text/plain": [
       "\n",
       "\tKruskal-Wallis rank sum test\n",
       "\n",
       "data:  WQI by water.source.type\n",
       "Kruskal-Wallis chi-squared = 4.7322, df = 5, p-value = 0.4494\n"
      ]
     },
     "metadata": {},
     "output_type": "display_data"
    }
   ],
   "source": [
    "kruskal.test(WQI ~ water.source.type, data = df.WQI)"
   ]
  },
  {
   "cell_type": "code",
   "execution_count": 13,
   "id": "5a917d67-0bec-4228-a955-e1cf5e8de3cc",
   "metadata": {
    "tags": []
   },
   "outputs": [
    {
     "data": {
      "text/plain": [
       "\n",
       "\tPairwise comparisons using Wilcoxon rank sum exact test \n",
       "\n",
       "data:  df.WQI$WQI and df.WQI$water.source.type \n",
       "\n",
       "           deep well lake rain water river spring\n",
       "lake       1         -    -          -     -     \n",
       "rain water 1         1    -          -     -     \n",
       "river      1         1    1          -     -     \n",
       "spring     1         1    1          1     -     \n",
       "tap water  1         1    1          1     1     \n",
       "\n",
       "P value adjustment method: BH "
      ]
     },
     "metadata": {},
     "output_type": "display_data"
    }
   ],
   "source": [
    "pairwise.wilcox.test(df.WQI$WQI, df.WQI$water.source.type,p.adjust.method = \"BH\")"
   ]
  }
 ],
 "metadata": {
  "kernelspec": {
   "display_name": "R",
   "language": "R",
   "name": "ir"
  },
  "language_info": {
   "codemirror_mode": "r",
   "file_extension": ".r",
   "mimetype": "text/x-r-source",
   "name": "R",
   "pygments_lexer": "r",
   "version": "4.4.1"
  }
 },
 "nbformat": 4,
 "nbformat_minor": 5
}
