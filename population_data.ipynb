{
 "cells": [
  {
   "cell_type": "markdown",
   "id": "c62ec542-e101-4494-9483-01157315cf16",
   "metadata": {},
   "source": [
    "# Population data\n",
    "\n",
    "The population data was obtained from the following sources:\n",
    " - [National Institute of Statistic of Rwanda](https://www.statistics.gov.rw/) - direct data link: [May 2023 KEY TRENDS: 5th Rwanda Population and Housing Census PHC - Kinyarwanda](https://www.statistics.gov.rw/publication/key-trends-5th-rwanda-population-and-housing-census-phc-kinyarwanda)\n",
    " - [Uganda Bureau of Statistics](https://www.ubos.org/) - direct data link: [Census data and projections](https://www.ubos.org/wp-content/uploads/statistics/Census_Population_counts_(2002_and_2014)_by_Region,_District_and_Mid-Year_Population_projections_(2015-2021).xlsx)\n",
    " - [INSTAT Madagascar](https://www.instat.mg/) \n"
   ]
  },
  {
   "cell_type": "markdown",
   "id": "713154c0-8e16-4759-acbc-147e5c5674d2",
   "metadata": {},
   "source": [
    "### Loading libraries"
   ]
  },
  {
   "cell_type": "code",
   "execution_count": 2,
   "id": "f9073354-dd97-4659-af7a-2b519b9956d4",
   "metadata": {},
   "outputs": [],
   "source": [
    "library(tidyverse)\n",
    "library(openxlsx)"
   ]
  },
  {
   "cell_type": "markdown",
   "id": "0f1c007a-6ff3-4a7a-a57d-fc2dd5b46f45",
   "metadata": {},
   "source": [
    "### 1. Loading geographical data\n",
    "\n",
    "Loading the `df.geo.regions` dataframe created in [`geo_data.ipynb`](geo_data.ipynb)."
   ]
  },
  {
   "cell_type": "code",
   "execution_count": 3,
   "id": "fd513cb4-e301-401e-b7c3-c3f8a42171fd",
   "metadata": {},
   "outputs": [],
   "source": [
    "load(\"data/df_geo_regions.RData\") "
   ]
  },
  {
   "cell_type": "markdown",
   "id": "2551c275-3792-4d4d-b6fd-4ddd6829ff1e",
   "metadata": {},
   "source": [
    "### 2. Loading the chemical data\n",
    "\n",
    "It is loaded for geographical coordinates of the sampling points `locx` and `loc.y`."
   ]
  },
  {
   "cell_type": "code",
   "execution_count": 4,
   "id": "aec732d0-9ff2-4565-9cc9-7110a07327ed",
   "metadata": {},
   "outputs": [],
   "source": [
    "df.chem <- openxlsx::read.xlsx(\"data/chemical_data.xlsx\",sheet=1)"
   ]
  },
  {
   "cell_type": "markdown",
   "id": "30687450-55e4-41d7-a053-597b6ee6a596",
   "metadata": {},
   "source": [
    "### 3. Loading prepared population data\n",
    "\n",
    "The data was taken from the abovementioned sources and placed in the MS Excel file `population_data.xlsx`. For certain countries multiple population data sources are given. The source of the data is mentioned in `data.source` column."
   ]
  },
  {
   "cell_type": "code",
   "execution_count": 5,
   "id": "63e68992-a0f4-42fb-8c55-4db220fd22ec",
   "metadata": {},
   "outputs": [
    {
     "data": {
      "text/html": [
       "<table class=\"dataframe\">\n",
       "<caption>A data.frame: 6 × 5</caption>\n",
       "<thead>\n",
       "\t<tr><th></th><th scope=col>country</th><th scope=col>region</th><th scope=col>district</th><th scope=col>population</th><th scope=col>data.source</th></tr>\n",
       "\t<tr><th></th><th scope=col>&lt;chr&gt;</th><th scope=col>&lt;chr&gt;</th><th scope=col>&lt;chr&gt;</th><th scope=col>&lt;dbl&gt;</th><th scope=col>&lt;chr&gt;</th></tr>\n",
       "</thead>\n",
       "<tbody>\n",
       "\t<tr><th scope=row>1</th><td>Rwanda</td><td>City of Kigali   </td><td>Nyarugenge</td><td>374319</td><td>census 2022</td></tr>\n",
       "\t<tr><th scope=row>2</th><td>Rwanda</td><td>City of Kigali   </td><td>Gasabo    </td><td>879505</td><td>census 2022</td></tr>\n",
       "\t<tr><th scope=row>3</th><td>Rwanda</td><td>City of Kigali   </td><td>Kicukiro  </td><td>491731</td><td>census 2022</td></tr>\n",
       "\t<tr><th scope=row>4</th><td>Rwanda</td><td>Southern Province</td><td>Nyanza    </td><td>365718</td><td>census 2022</td></tr>\n",
       "\t<tr><th scope=row>5</th><td>Rwanda</td><td>Southern Province</td><td>Gisagara  </td><td>397051</td><td>census 2022</td></tr>\n",
       "\t<tr><th scope=row>6</th><td>Rwanda</td><td>Southern Province</td><td>Nyaruguru </td><td>318126</td><td>census 2022</td></tr>\n",
       "</tbody>\n",
       "</table>\n"
      ],
      "text/latex": [
       "A data.frame: 6 × 5\n",
       "\\begin{tabular}{r|lllll}\n",
       "  & country & region & district & population & data.source\\\\\n",
       "  & <chr> & <chr> & <chr> & <dbl> & <chr>\\\\\n",
       "\\hline\n",
       "\t1 & Rwanda & City of Kigali    & Nyarugenge & 374319 & census 2022\\\\\n",
       "\t2 & Rwanda & City of Kigali    & Gasabo     & 879505 & census 2022\\\\\n",
       "\t3 & Rwanda & City of Kigali    & Kicukiro   & 491731 & census 2022\\\\\n",
       "\t4 & Rwanda & Southern Province & Nyanza     & 365718 & census 2022\\\\\n",
       "\t5 & Rwanda & Southern Province & Gisagara   & 397051 & census 2022\\\\\n",
       "\t6 & Rwanda & Southern Province & Nyaruguru  & 318126 & census 2022\\\\\n",
       "\\end{tabular}\n"
      ],
      "text/markdown": [
       "\n",
       "A data.frame: 6 × 5\n",
       "\n",
       "| <!--/--> | country &lt;chr&gt; | region &lt;chr&gt; | district &lt;chr&gt; | population &lt;dbl&gt; | data.source &lt;chr&gt; |\n",
       "|---|---|---|---|---|---|\n",
       "| 1 | Rwanda | City of Kigali    | Nyarugenge | 374319 | census 2022 |\n",
       "| 2 | Rwanda | City of Kigali    | Gasabo     | 879505 | census 2022 |\n",
       "| 3 | Rwanda | City of Kigali    | Kicukiro   | 491731 | census 2022 |\n",
       "| 4 | Rwanda | Southern Province | Nyanza     | 365718 | census 2022 |\n",
       "| 5 | Rwanda | Southern Province | Gisagara   | 397051 | census 2022 |\n",
       "| 6 | Rwanda | Southern Province | Nyaruguru  | 318126 | census 2022 |\n",
       "\n"
      ],
      "text/plain": [
       "  country region            district   population data.source\n",
       "1 Rwanda  City of Kigali    Nyarugenge 374319     census 2022\n",
       "2 Rwanda  City of Kigali    Gasabo     879505     census 2022\n",
       "3 Rwanda  City of Kigali    Kicukiro   491731     census 2022\n",
       "4 Rwanda  Southern Province Nyanza     365718     census 2022\n",
       "5 Rwanda  Southern Province Gisagara   397051     census 2022\n",
       "6 Rwanda  Southern Province Nyaruguru  318126     census 2022"
      ]
     },
     "metadata": {},
     "output_type": "display_data"
    }
   ],
   "source": [
    "df.population.by.district <- openxlsx::read.xlsx(\"data/population_data.xlsx\")\n",
    "head(df.population.by.district)"
   ]
  },
  {
   "cell_type": "markdown",
   "id": "cacb76a3-99b4-45df-9839-dd6ba2f210e5",
   "metadata": {},
   "source": [
    "### 4. Summarizing the district data fo the region data\n",
    "The population data is given by district, so it needs to be grouped with respect to region, and data source. "
   ]
  },
  {
   "cell_type": "code",
   "execution_count": 6,
   "id": "fe82ed81-8627-418b-8019-bdc7e8ac6718",
   "metadata": {},
   "outputs": [
    {
     "name": "stderr",
     "output_type": "stream",
     "text": [
      "\u001b[1m\u001b[22m`summarise()` has grouped output by 'country', 'region'. You can override using\n",
      "the `.groups` argument.\n"
     ]
    },
    {
     "data": {
      "text/html": [
       "<table class=\"dataframe\">\n",
       "<caption>A grouped_df: 6 × 4</caption>\n",
       "<thead>\n",
       "\t<tr><th scope=col>country</th><th scope=col>region</th><th scope=col>data.source</th><th scope=col>population</th></tr>\n",
       "\t<tr><th scope=col>&lt;chr&gt;</th><th scope=col>&lt;chr&gt;</th><th scope=col>&lt;chr&gt;</th><th scope=col>&lt;dbl&gt;</th></tr>\n",
       "</thead>\n",
       "<tbody>\n",
       "\t<tr><td>Madagascar</td><td>Alaotra-Mangoro</td><td>census 2018 (unofficial www)    </td><td>1249931</td></tr>\n",
       "\t<tr><td>Madagascar</td><td>Alaotra-Mangoro</td><td>projection 2020 (unofficial www)</td><td>1316136</td></tr>\n",
       "\t<tr><td>Madagascar</td><td>Amoron'i Mania </td><td>census 2018 (unofficial www)    </td><td> 837116</td></tr>\n",
       "\t<tr><td>Madagascar</td><td>Amoron'i Mania </td><td>projection 2020 (unofficial www)</td><td> 889497</td></tr>\n",
       "\t<tr><td>Madagascar</td><td>Analamanga     </td><td>census 2018 (unofficial www)    </td><td>3040023</td></tr>\n",
       "\t<tr><td>Madagascar</td><td>Analamanga     </td><td>projection 2020 (unofficial www)</td><td>3812126</td></tr>\n",
       "</tbody>\n",
       "</table>\n"
      ],
      "text/latex": [
       "A grouped\\_df: 6 × 4\n",
       "\\begin{tabular}{llll}\n",
       " country & region & data.source & population\\\\\n",
       " <chr> & <chr> & <chr> & <dbl>\\\\\n",
       "\\hline\n",
       "\t Madagascar & Alaotra-Mangoro & census 2018 (unofficial www)     & 1249931\\\\\n",
       "\t Madagascar & Alaotra-Mangoro & projection 2020 (unofficial www) & 1316136\\\\\n",
       "\t Madagascar & Amoron'i Mania  & census 2018 (unofficial www)     &  837116\\\\\n",
       "\t Madagascar & Amoron'i Mania  & projection 2020 (unofficial www) &  889497\\\\\n",
       "\t Madagascar & Analamanga      & census 2018 (unofficial www)     & 3040023\\\\\n",
       "\t Madagascar & Analamanga      & projection 2020 (unofficial www) & 3812126\\\\\n",
       "\\end{tabular}\n"
      ],
      "text/markdown": [
       "\n",
       "A grouped_df: 6 × 4\n",
       "\n",
       "| country &lt;chr&gt; | region &lt;chr&gt; | data.source &lt;chr&gt; | population &lt;dbl&gt; |\n",
       "|---|---|---|---|\n",
       "| Madagascar | Alaotra-Mangoro | census 2018 (unofficial www)     | 1249931 |\n",
       "| Madagascar | Alaotra-Mangoro | projection 2020 (unofficial www) | 1316136 |\n",
       "| Madagascar | Amoron'i Mania  | census 2018 (unofficial www)     |  837116 |\n",
       "| Madagascar | Amoron'i Mania  | projection 2020 (unofficial www) |  889497 |\n",
       "| Madagascar | Analamanga      | census 2018 (unofficial www)     | 3040023 |\n",
       "| Madagascar | Analamanga      | projection 2020 (unofficial www) | 3812126 |\n",
       "\n"
      ],
      "text/plain": [
       "  country    region          data.source                      population\n",
       "1 Madagascar Alaotra-Mangoro census 2018 (unofficial www)     1249931   \n",
       "2 Madagascar Alaotra-Mangoro projection 2020 (unofficial www) 1316136   \n",
       "3 Madagascar Amoron'i Mania  census 2018 (unofficial www)      837116   \n",
       "4 Madagascar Amoron'i Mania  projection 2020 (unofficial www)  889497   \n",
       "5 Madagascar Analamanga      census 2018 (unofficial www)     3040023   \n",
       "6 Madagascar Analamanga      projection 2020 (unofficial www) 3812126   "
      ]
     },
     "metadata": {},
     "output_type": "display_data"
    }
   ],
   "source": [
    "df.pop.reg <- df.population.by.district %>% group_by(country, region, data.source) %>% summarize(population=sum(population,na.rm = TRUE))\n",
    "head(df.pop.reg)"
   ]
  },
  {
   "cell_type": "markdown",
   "id": "22067677-23ed-432b-a89d-86d474083855",
   "metadata": {},
   "source": [
    "##### Total population by country and data source"
   ]
  },
  {
   "cell_type": "code",
   "execution_count": 7,
   "id": "ea0d8828-86b2-4116-98c0-9513b2ed1ba1",
   "metadata": {},
   "outputs": [
    {
     "name": "stderr",
     "output_type": "stream",
     "text": [
      "\u001b[1m\u001b[22m`summarise()` has grouped output by 'country'. You can override using the\n",
      "`.groups` argument.\n"
     ]
    },
    {
     "data": {
      "text/html": [
       "<table class=\"dataframe\">\n",
       "<caption>A grouped_df: 5 × 4</caption>\n",
       "<thead>\n",
       "\t<tr><th scope=col>country</th><th scope=col>data.source</th><th scope=col>regions.No</th><th scope=col>population</th></tr>\n",
       "\t<tr><th scope=col>&lt;chr&gt;</th><th scope=col>&lt;chr&gt;</th><th scope=col>&lt;int&gt;</th><th scope=col>&lt;dbl&gt;</th></tr>\n",
       "</thead>\n",
       "<tbody>\n",
       "\t<tr><td>Madagascar</td><td>census 2018 (unofficial www)    </td><td>22</td><td>23616805</td></tr>\n",
       "\t<tr><td>Madagascar</td><td>projection 2020 (unofficial www)</td><td>22</td><td>25512148</td></tr>\n",
       "\t<tr><td>Rwanda    </td><td>census 2022                     </td><td> 5</td><td>13246394</td></tr>\n",
       "\t<tr><td>Uganda    </td><td>census 2014                     </td><td> 4</td><td>34869432</td></tr>\n",
       "\t<tr><td>Uganda    </td><td>projection 2021                 </td><td> 4</td><td>42593400</td></tr>\n",
       "</tbody>\n",
       "</table>\n"
      ],
      "text/latex": [
       "A grouped\\_df: 5 × 4\n",
       "\\begin{tabular}{llll}\n",
       " country & data.source & regions.No & population\\\\\n",
       " <chr> & <chr> & <int> & <dbl>\\\\\n",
       "\\hline\n",
       "\t Madagascar & census 2018 (unofficial www)     & 22 & 23616805\\\\\n",
       "\t Madagascar & projection 2020 (unofficial www) & 22 & 25512148\\\\\n",
       "\t Rwanda     & census 2022                      &  5 & 13246394\\\\\n",
       "\t Uganda     & census 2014                      &  4 & 34869432\\\\\n",
       "\t Uganda     & projection 2021                  &  4 & 42593400\\\\\n",
       "\\end{tabular}\n"
      ],
      "text/markdown": [
       "\n",
       "A grouped_df: 5 × 4\n",
       "\n",
       "| country &lt;chr&gt; | data.source &lt;chr&gt; | regions.No &lt;int&gt; | population &lt;dbl&gt; |\n",
       "|---|---|---|---|\n",
       "| Madagascar | census 2018 (unofficial www)     | 22 | 23616805 |\n",
       "| Madagascar | projection 2020 (unofficial www) | 22 | 25512148 |\n",
       "| Rwanda     | census 2022                      |  5 | 13246394 |\n",
       "| Uganda     | census 2014                      |  4 | 34869432 |\n",
       "| Uganda     | projection 2021                  |  4 | 42593400 |\n",
       "\n"
      ],
      "text/plain": [
       "  country    data.source                      regions.No population\n",
       "1 Madagascar census 2018 (unofficial www)     22         23616805  \n",
       "2 Madagascar projection 2020 (unofficial www) 22         25512148  \n",
       "3 Rwanda     census 2022                       5         13246394  \n",
       "4 Uganda     census 2014                       4         34869432  \n",
       "5 Uganda     projection 2021                   4         42593400  "
      ]
     },
     "metadata": {},
     "output_type": "display_data"
    }
   ],
   "source": [
    "df.pop.reg %>% group_by(country,data.source) %>% summarize(regions.No=n_distinct(region),population=sum(population,na.rm = TRUE)) "
   ]
  },
  {
   "cell_type": "markdown",
   "id": "e00b9ece-282d-4fd3-b593-45d249c38021",
   "metadata": {},
   "source": [
    "### 5. Joining the geographical (regions) dataframe and population dataframe\n",
    "\n",
    "In order to present he population graphically, dataframes need to be merged (LEFT JOIN). To display the boundaries of regions properly, the dataframe needs to be arranged with respect to `path.id` and `point.ix` columns."
   ]
  },
  {
   "cell_type": "code",
   "execution_count": 8,
   "id": "89da9195-40ec-4ba2-ad9a-986321f1ab08",
   "metadata": {},
   "outputs": [
    {
     "data": {
      "text/html": [
       "<table class=\"dataframe\">\n",
       "<caption>A data.frame: 6 × 8</caption>\n",
       "<thead>\n",
       "\t<tr><th></th><th scope=col>country</th><th scope=col>region</th><th scope=col>x</th><th scope=col>y</th><th scope=col>path.id</th><th scope=col>point.ix</th><th scope=col>data.source</th><th scope=col>population</th></tr>\n",
       "\t<tr><th></th><th scope=col>&lt;chr&gt;</th><th scope=col>&lt;chr&gt;</th><th scope=col>&lt;dbl&gt;</th><th scope=col>&lt;dbl&gt;</th><th scope=col>&lt;dbl&gt;</th><th scope=col>&lt;int&gt;</th><th scope=col>&lt;chr&gt;</th><th scope=col>&lt;dbl&gt;</th></tr>\n",
       "</thead>\n",
       "<tbody>\n",
       "\t<tr><th scope=row>1</th><td>Rwanda</td><td>Eastern Province</td><td>30.44970</td><td>-1.049094</td><td>1</td><td>1</td><td>census 2022</td><td>3563145</td></tr>\n",
       "\t<tr><th scope=row>2</th><td>Rwanda</td><td>Eastern Province</td><td>30.44998</td><td>-1.049565</td><td>1</td><td>2</td><td>census 2022</td><td>3563145</td></tr>\n",
       "\t<tr><th scope=row>3</th><td>Rwanda</td><td>Eastern Province</td><td>30.45002</td><td>-1.049227</td><td>1</td><td>3</td><td>census 2022</td><td>3563145</td></tr>\n",
       "\t<tr><th scope=row>4</th><td>Rwanda</td><td>Eastern Province</td><td>30.45005</td><td>-1.048911</td><td>1</td><td>4</td><td>census 2022</td><td>3563145</td></tr>\n",
       "\t<tr><th scope=row>5</th><td>Rwanda</td><td>Eastern Province</td><td>30.45008</td><td>-1.048537</td><td>1</td><td>5</td><td>census 2022</td><td>3563145</td></tr>\n",
       "\t<tr><th scope=row>6</th><td>Rwanda</td><td>Eastern Province</td><td>30.45076</td><td>-1.048452</td><td>1</td><td>6</td><td>census 2022</td><td>3563145</td></tr>\n",
       "</tbody>\n",
       "</table>\n"
      ],
      "text/latex": [
       "A data.frame: 6 × 8\n",
       "\\begin{tabular}{r|llllllll}\n",
       "  & country & region & x & y & path.id & point.ix & data.source & population\\\\\n",
       "  & <chr> & <chr> & <dbl> & <dbl> & <dbl> & <int> & <chr> & <dbl>\\\\\n",
       "\\hline\n",
       "\t1 & Rwanda & Eastern Province & 30.44970 & -1.049094 & 1 & 1 & census 2022 & 3563145\\\\\n",
       "\t2 & Rwanda & Eastern Province & 30.44998 & -1.049565 & 1 & 2 & census 2022 & 3563145\\\\\n",
       "\t3 & Rwanda & Eastern Province & 30.45002 & -1.049227 & 1 & 3 & census 2022 & 3563145\\\\\n",
       "\t4 & Rwanda & Eastern Province & 30.45005 & -1.048911 & 1 & 4 & census 2022 & 3563145\\\\\n",
       "\t5 & Rwanda & Eastern Province & 30.45008 & -1.048537 & 1 & 5 & census 2022 & 3563145\\\\\n",
       "\t6 & Rwanda & Eastern Province & 30.45076 & -1.048452 & 1 & 6 & census 2022 & 3563145\\\\\n",
       "\\end{tabular}\n"
      ],
      "text/markdown": [
       "\n",
       "A data.frame: 6 × 8\n",
       "\n",
       "| <!--/--> | country &lt;chr&gt; | region &lt;chr&gt; | x &lt;dbl&gt; | y &lt;dbl&gt; | path.id &lt;dbl&gt; | point.ix &lt;int&gt; | data.source &lt;chr&gt; | population &lt;dbl&gt; |\n",
       "|---|---|---|---|---|---|---|---|---|\n",
       "| 1 | Rwanda | Eastern Province | 30.44970 | -1.049094 | 1 | 1 | census 2022 | 3563145 |\n",
       "| 2 | Rwanda | Eastern Province | 30.44998 | -1.049565 | 1 | 2 | census 2022 | 3563145 |\n",
       "| 3 | Rwanda | Eastern Province | 30.45002 | -1.049227 | 1 | 3 | census 2022 | 3563145 |\n",
       "| 4 | Rwanda | Eastern Province | 30.45005 | -1.048911 | 1 | 4 | census 2022 | 3563145 |\n",
       "| 5 | Rwanda | Eastern Province | 30.45008 | -1.048537 | 1 | 5 | census 2022 | 3563145 |\n",
       "| 6 | Rwanda | Eastern Province | 30.45076 | -1.048452 | 1 | 6 | census 2022 | 3563145 |\n",
       "\n"
      ],
      "text/plain": [
       "  country region           x        y         path.id point.ix data.source\n",
       "1 Rwanda  Eastern Province 30.44970 -1.049094 1       1        census 2022\n",
       "2 Rwanda  Eastern Province 30.44998 -1.049565 1       2        census 2022\n",
       "3 Rwanda  Eastern Province 30.45002 -1.049227 1       3        census 2022\n",
       "4 Rwanda  Eastern Province 30.45005 -1.048911 1       4        census 2022\n",
       "5 Rwanda  Eastern Province 30.45008 -1.048537 1       5        census 2022\n",
       "6 Rwanda  Eastern Province 30.45076 -1.048452 1       6        census 2022\n",
       "  population\n",
       "1 3563145   \n",
       "2 3563145   \n",
       "3 3563145   \n",
       "4 3563145   \n",
       "5 3563145   \n",
       "6 3563145   "
      ]
     },
     "metadata": {},
     "output_type": "display_data"
    }
   ],
   "source": [
    "df.geo.pop <- arrange(merge(df.geo.regions,df.pop.reg,by=c(\"country\",\"region\"),all.x=TRUE),path.id,point.ix)\n",
    "head(df.geo.pop)"
   ]
  },
  {
   "cell_type": "markdown",
   "id": "19f16457-9d70-4321-8f14-5b7e2f5a7b1d",
   "metadata": {},
   "source": [
    "### 6. Displaying the population of Uganda, Rwanda and Madagascar by region and sampling points"
   ]
  },
  {
   "cell_type": "code",
   "execution_count": 9,
   "id": "ebb9062b-52a4-4516-897b-dc3edee0fab3",
   "metadata": {},
   "outputs": [
    {
     "data": {
      "image/png": "[encoded data removed]",
      "text/plain": [
       "plot without title"
      ]
     },
     "metadata": {
      "image/png": {
       "height": 720,
       "width": 720
      }
     },
     "output_type": "display_data"
    }
   ],
   "source": [
    "options(repr.plot.height=12,repr.plot.width=12)\n",
    "\n",
    "fill.breaks <- sort(c(100000,seq(2*10^6,1.2*10^7,2*10^6))) # colorbar breaks\n",
    "\n",
    "ggplot() + geom_polygon(data=df.geo.pop[with(df.geo.pop, # choosing only certain sources of population data\n",
    "                                             data.source==\"projection 2021\" | data.source==\"census 2022\" | data.source==\"projection 2020 (unofficial www)\"),],\n",
    "                        aes(x,y,fill=population,group=path.id),color=\"black\") + coord_fixed() +\n",
    "           geom_point(data=df.chem,aes(x=loc.x,y=loc.y),size=3,shape=21,color=\"white\",fill=\"black\")+ # display sampling points with black dots\n",
    "           # adjusting appearance\n",
    "           scale_fill_gradient(low = \"yellow\", high = \"red\", na.value = NA,\n",
    "                               limits=c(100000,12010000),\n",
    "                               breaks=fill.breaks,\n",
    "                               labels=format(paste(fill.breaks/10^6,\"M\"),width = 6,  justify = \"r\"), # adjusting labels to format XX M\n",
    "                               guide = guide_colourbar( barwidth = 2, barheight = 22,ticks.colour = \"black\",ticks.linewidth = 1)) + \n",
    "                               theme_bw() + theme(axis.text=element_blank(),\n",
    "                                                  axis.title=element_blank(),\n",
    "                                                  panel.grid.major=element_blank(),\n",
    "                                                  panel.grid.minor=element_blank(),\n",
    "                                                  panel.border=element_blank(),\n",
    "                                                  legend.text=element_text(size=14),\n",
    "                                                  legend.title=element_text(size=16)) \n",
    "\n",
    "#ggsave(\"IMG/population.svg\",height=15,width=15)"
   ]
  }
 ],
 "metadata": {
  "kernelspec": {
   "display_name": "R",
   "language": "R",
   "name": "ir"
  },
  "language_info": {
   "codemirror_mode": "r",
   "file_extension": ".r",
   "mimetype": "text/x-r-source",
   "name": "R",
   "pygments_lexer": "r",
   "version": "4.4.1"
  }
 },
 "nbformat": 4,
 "nbformat_minor": 5
}
