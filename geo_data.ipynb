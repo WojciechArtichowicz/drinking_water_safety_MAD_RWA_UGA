{
 "cells": [
  {
   "cell_type": "markdown",
   "id": "f6ccfbac-8d34-48a6-b376-af72d41c5a17",
   "metadata": {},
   "source": [
    "# Preparation of the geographical data\n",
    "\n",
    "The data for region visualization of Uganda, Rwanda and Madagascar was obtained in shp format, and exported to csv files in [WKT format](https://en.wikipedia.org/wiki/Well-known_text_representation_of_geometry) using [QGIS](https://qgis.org/pl/site/forusers/download.html). The following data sources were used:\n",
    " - [Madagascar administrative boundaries (CC0; source: The Humanitarian Data Exchange)](https://data.humdata.org/dataset/26fa506b-0727-4d9d-a590-d2abee21ee22/resource/ed94d52e-349e-41be-80cb-62dc0435bd34)\n",
    " - [Rwanda administrative boundaries (CC4.0; source: The World Bank Data Catalog)](https://datacatalog.worldbank.org/search/dataset/0041453/Rwanda-Admin-Boundaries-and-Villages)\n",
    " - [Uganda administrative boundaries (CC0; source data.world)](https://data.world/ocha-rosea/6d6d1495-196b-49d0-86b9-dc9022cde8e7)"
   ]
  },
  {
   "cell_type": "code",
   "execution_count": 2,
   "id": "e5a233c0-e966-45cd-a84b-3c4a1c14f0ad",
   "metadata": {
    "scrolled": true
   },
   "outputs": [],
   "source": [
    "library(tidyverse)"
   ]
  },
  {
   "attachments": {
    "bf11619b-4294-49bb-be08-ebe37302e429.png": {
     "image/png": "[encoded data removed]"
    }
   },
   "cell_type": "markdown",
   "id": "15187103-5799-4021-9d67-d4b54d164d59",
   "metadata": {},
   "source": [
    "### 1. Importing geometry data of the administrative regions\n",
    "\n",
    "The CSV files contain data in [WKT](https://en.wikipedia.org/wiki/Well-known_text_representation_of_geometry) format and need to be parsed properly to read into dataframe in format appropriate for ggplot2. \n",
    "\n",
    "![image.png](attachment:bf11619b-4294-49bb-be08-ebe37302e429.png)\n",
    "\n",
    "The following function takes a dataframe of the WKT geometry (polygons with holes, MULTIPOLYGON entity only) and transforms them into the clean R dataframe using RegEx. Although it can handle holes while reading CSV file, it does not process holes for placing them in the resulting dataframe. (Holes were not present in the processed geometry, and such functionality was considered redundant.)\n",
    "\n",
    "As the geometry dataframe later will be merged (joined) with population data, the path idexes (`path.id`) and point indexes (`point.ix`) within a path need to be added to avoid problems with displaying geometries after merging. To avoid problems with drawing regions using gglpot2 it is required to sort resulting dataframe with respect to the `path.id` and `point.ix` after merging."
   ]
  },
  {
   "cell_type": "code",
   "execution_count": 3,
   "id": "8fbcaf0a-98b7-48ab-9951-939add583566",
   "metadata": {},
   "outputs": [],
   "source": [
    "parse_wkt_multipolygon <- function(df.wkt){\n",
    "    \n",
    "    reg.ex1 <- \"\\\\((?:[^)(]*(?R)?)*+\\\\)\" # extract content on a first level - polygons with holes\n",
    "    reg.ex2 <- '\\\\((.*?)\\\\)' # extract content on the second level\n",
    "    \n",
    "    N <- nrow(df.wkt)\n",
    "    tmp.df <- NULL\n",
    "    path.id <- 0 # not needes as in this project no holes are given\n",
    "    for (i in 1:N){\n",
    "        r <- df.wkt[i,]\n",
    "        region <- r[[2]]\n",
    "        p <- r[[1]] # WKT multipolygon\n",
    "    \n",
    "        # processing\n",
    "        p <- str_remove_all(str_remove_all(p, fixed(\"MULTIPOLYGON (\")),\"\\\\)$\")\n",
    "        p <- regmatches(p, gregexpr(reg.ex1, p, perl = TRUE))[[1]]\n",
    "        p <- str_extract_all(p,reg.ex2)\n",
    "\n",
    "        for (j in 1:length(p)){\n",
    "            if (length(p[[j]])>1) {\n",
    "                warning(\"Function does not handle holes. Parsing WKT MULTIPOLYGON holes from CSV (generated from shapefile) requires implementation\")\n",
    "            }\n",
    "\n",
    "            path.id <- path.id + 1 \n",
    "            k <- 1\n",
    "            xy <- str_split_fixed(str_split_1(str_remove_all(p[[j]][k],\"\\\\(|\\\\)\"),\",\"),\" \",2) # finally, the coordinates\n",
    "\n",
    "             #for (k in 2:length(p[[j]]){\n",
    "             #    # process holes geometry #TODO if needed in future\n",
    "             #}\n",
    "     \n",
    "            if (is.null(tmp.df)){\n",
    "                   tmp.df <-  data.frame(x=as.numeric(xy[,1]),y=as.numeric(xy[,2]),region=region,path.id=path.id,point.ix=1:nrow(xy)) \n",
    "            } else {  \n",
    "                   tmp.df <-  rbind(tmp.df,data.frame(x=as.numeric(xy[,1]),y=as.numeric(xy[,2]),region=region,path.id=path.id,point.ix=1:nrow(xy)) )\n",
    "            }\n",
    "        \n",
    "       }   # for (j in 1:length(p))   \n",
    "     } # for (i in 1:N)\n",
    "\n",
    "     return(tmp.df)\n",
    "\n",
    "}"
   ]
  },
  {
   "cell_type": "code",
   "execution_count": 4,
   "id": "e55b8433-46b8-4138-8268-c5e922421647",
   "metadata": {},
   "outputs": [
    {
     "name": "stderr",
     "output_type": "stream",
     "text": [
      "\u001b[36mℹ\u001b[39m Using \u001b[34m\u001b[34m\"','\"\u001b[34m\u001b[39m as decimal and \u001b[34m\u001b[34m\"'.'\"\u001b[34m\u001b[39m as grouping mark. Use `read_delim()` for more control.\n",
      "\n",
      "\u001b[1mRows: \u001b[22m\u001b[34m5\u001b[39m \u001b[1mColumns: \u001b[22m\u001b[34m2\u001b[39m\n",
      "\u001b[36m──\u001b[39m \u001b[1mColumn specification\u001b[22m \u001b[36m────────────────────────────────────────────────────────\u001b[39m\n",
      "\u001b[1mDelimiter:\u001b[22m \";\"\n",
      "\u001b[31mchr\u001b[39m (2): WKT, ADM1_EN\n",
      "\n",
      "\u001b[36mℹ\u001b[39m Use `spec()` to retrieve the full column specification for this data.\n",
      "\u001b[36mℹ\u001b[39m Specify the column types or set `show_col_types = FALSE` to quiet this message.\n",
      "\u001b[36mℹ\u001b[39m Using \u001b[34m\u001b[34m\"','\"\u001b[34m\u001b[39m as decimal and \u001b[34m\u001b[34m\"'.'\"\u001b[34m\u001b[39m as grouping mark. Use `read_delim()` for more control.\n",
      "\n",
      "\u001b[1mRows: \u001b[22m\u001b[34m4\u001b[39m \u001b[1mColumns: \u001b[22m\u001b[34m2\u001b[39m\n",
      "\u001b[36m──\u001b[39m \u001b[1mColumn specification\u001b[22m \u001b[36m────────────────────────────────────────────────────────\u001b[39m\n",
      "\u001b[1mDelimiter:\u001b[22m \";\"\n",
      "\u001b[31mchr\u001b[39m (2): WKT, ADM1_EN\n",
      "\n",
      "\u001b[36mℹ\u001b[39m Use `spec()` to retrieve the full column specification for this data.\n",
      "\u001b[36mℹ\u001b[39m Specify the column types or set `show_col_types = FALSE` to quiet this message.\n",
      "\u001b[36mℹ\u001b[39m Using \u001b[34m\u001b[34m\"','\"\u001b[34m\u001b[39m as decimal and \u001b[34m\u001b[34m\"'.'\"\u001b[34m\u001b[39m as grouping mark. Use `read_delim()` for more control.\n",
      "\n",
      "\u001b[1mRows: \u001b[22m\u001b[34m22\u001b[39m \u001b[1mColumns: \u001b[22m\u001b[34m2\u001b[39m\n",
      "\u001b[36m──\u001b[39m \u001b[1mColumn specification\u001b[22m \u001b[36m────────────────────────────────────────────────────────\u001b[39m\n",
      "\u001b[1mDelimiter:\u001b[22m \";\"\n",
      "\u001b[31mchr\u001b[39m (2): WKT, ADM1_EN\n",
      "\n",
      "\u001b[36mℹ\u001b[39m Use `spec()` to retrieve the full column specification for this data.\n",
      "\u001b[36mℹ\u001b[39m Specify the column types or set `show_col_types = FALSE` to quiet this message.\n"
     ]
    }
   ],
   "source": [
    "df.rwanda <- parse_wkt_multipolygon(read_csv2(\"data/geo/rwanda_regions.csv\"))\n",
    "df.uganda <- parse_wkt_multipolygon(read_csv2(\"data/geo/uganda_regions.csv\"))\n",
    "df.madagascar <- parse_wkt_multipolygon(read_csv2(\"data/geo/madagascar_regions.csv\"))"
   ]
  },
  {
   "cell_type": "markdown",
   "id": "f9f06d95-5b29-4a9a-ab13-5baea15e46a3",
   "metadata": {},
   "source": [
    "### 2. Adjusting the imported data for proper name alignment with population data"
   ]
  },
  {
   "cell_type": "code",
   "execution_count": 5,
   "id": "944bef9a-56a1-4328-b7b4-850ccb3abd53",
   "metadata": {},
   "outputs": [],
   "source": [
    "df.uganda[\"country\"] <- \"Uganda\"\n",
    "\n",
    "df.rwanda[\"country\"] <- \"Rwanda\"\n",
    "df.rwanda[df.rwanda$region=='Kigali City','region'] <- 'City of Kigali' # adjusting the names to be the same as in population data\n",
    "\n",
    "df.madagascar[\"country\"] <- \"Madagascar\"\n",
    "df.madagascar[df.madagascar$region=='Alaotra Mangoro','region'] <- 'Alaotra-Mangoro' # adjusting the names to be the same as in population data\n",
    "df.madagascar[df.madagascar$region=='Amoron I Mania','region'] <- \"Amoron'i Mania\"\n",
    "df.madagascar[df.madagascar$region=='Atsimo Andrefana','region'] <- \"Atsimo-Andrefana\"\n",
    "df.madagascar[df.madagascar$region=='Atsimo Atsinanana','region'] <- \"Atsimo-Atsinanana\"\n",
    "df.madagascar[df.madagascar$region=='Haute Matsiatra','region'] <- \"Haute Matsiatra (Matsiatra Ambony)\"\n",
    "df.madagascar[df.madagascar$region=='Vatovavy Fitovinany','region'] <- \"Vatovavy-Fitovinany\""
   ]
  },
  {
   "cell_type": "markdown",
   "id": "6faae498-251c-454d-abdf-22e5fdd8b70d",
   "metadata": {},
   "source": [
    "### 3. Adjusting path.ids, so they do not overlap between different countries"
   ]
  },
  {
   "cell_type": "code",
   "execution_count": 6,
   "id": "c518d7f1-3d45-4f67-a072-979344562b81",
   "metadata": {},
   "outputs": [
    {
     "data": {
      "text/html": [
       "<table class=\"dataframe\">\n",
       "<caption>A data.frame: 6 × 6</caption>\n",
       "<thead>\n",
       "\t<tr><th></th><th scope=col>x</th><th scope=col>y</th><th scope=col>region</th><th scope=col>path.id</th><th scope=col>point.ix</th><th scope=col>country</th></tr>\n",
       "\t<tr><th></th><th scope=col>&lt;dbl&gt;</th><th scope=col>&lt;dbl&gt;</th><th scope=col>&lt;chr&gt;</th><th scope=col>&lt;dbl&gt;</th><th scope=col>&lt;int&gt;</th><th scope=col>&lt;chr&gt;</th></tr>\n",
       "</thead>\n",
       "<tbody>\n",
       "\t<tr><th scope=row>1</th><td>32.22046</td><td>1.670968</td><td>Central</td><td>64</td><td>1</td><td>Uganda</td></tr>\n",
       "\t<tr><th scope=row>2</th><td>32.22140</td><td>1.670771</td><td>Central</td><td>64</td><td>2</td><td>Uganda</td></tr>\n",
       "\t<tr><th scope=row>3</th><td>32.22305</td><td>1.670426</td><td>Central</td><td>64</td><td>3</td><td>Uganda</td></tr>\n",
       "\t<tr><th scope=row>4</th><td>32.23025</td><td>1.671126</td><td>Central</td><td>64</td><td>4</td><td>Uganda</td></tr>\n",
       "\t<tr><th scope=row>5</th><td>32.23222</td><td>1.669040</td><td>Central</td><td>64</td><td>5</td><td>Uganda</td></tr>\n",
       "\t<tr><th scope=row>6</th><td>32.23661</td><td>1.667703</td><td>Central</td><td>64</td><td>6</td><td>Uganda</td></tr>\n",
       "</tbody>\n",
       "</table>\n"
      ],
      "text/latex": [
       "A data.frame: 6 × 6\n",
       "\\begin{tabular}{r|llllll}\n",
       "  & x & y & region & path.id & point.ix & country\\\\\n",
       "  & <dbl> & <dbl> & <chr> & <dbl> & <int> & <chr>\\\\\n",
       "\\hline\n",
       "\t1 & 32.22046 & 1.670968 & Central & 64 & 1 & Uganda\\\\\n",
       "\t2 & 32.22140 & 1.670771 & Central & 64 & 2 & Uganda\\\\\n",
       "\t3 & 32.22305 & 1.670426 & Central & 64 & 3 & Uganda\\\\\n",
       "\t4 & 32.23025 & 1.671126 & Central & 64 & 4 & Uganda\\\\\n",
       "\t5 & 32.23222 & 1.669040 & Central & 64 & 5 & Uganda\\\\\n",
       "\t6 & 32.23661 & 1.667703 & Central & 64 & 6 & Uganda\\\\\n",
       "\\end{tabular}\n"
      ],
      "text/markdown": [
       "\n",
       "A data.frame: 6 × 6\n",
       "\n",
       "| <!--/--> | x &lt;dbl&gt; | y &lt;dbl&gt; | region &lt;chr&gt; | path.id &lt;dbl&gt; | point.ix &lt;int&gt; | country &lt;chr&gt; |\n",
       "|---|---|---|---|---|---|---|\n",
       "| 1 | 32.22046 | 1.670968 | Central | 64 | 1 | Uganda |\n",
       "| 2 | 32.22140 | 1.670771 | Central | 64 | 2 | Uganda |\n",
       "| 3 | 32.22305 | 1.670426 | Central | 64 | 3 | Uganda |\n",
       "| 4 | 32.23025 | 1.671126 | Central | 64 | 4 | Uganda |\n",
       "| 5 | 32.23222 | 1.669040 | Central | 64 | 5 | Uganda |\n",
       "| 6 | 32.23661 | 1.667703 | Central | 64 | 6 | Uganda |\n",
       "\n"
      ],
      "text/plain": [
       "  x        y        region  path.id point.ix country\n",
       "1 32.22046 1.670968 Central 64      1        Uganda \n",
       "2 32.22140 1.670771 Central 64      2        Uganda \n",
       "3 32.22305 1.670426 Central 64      3        Uganda \n",
       "4 32.23025 1.671126 Central 64      4        Uganda \n",
       "5 32.23222 1.669040 Central 64      5        Uganda \n",
       "6 32.23661 1.667703 Central 64      6        Uganda "
      ]
     },
     "metadata": {},
     "output_type": "display_data"
    }
   ],
   "source": [
    "df.uganda$path.id <- df.uganda$path.id + max(df.rwanda$path.id)\n",
    "df.madagascar$path.id <- df.madagascar$path.id + max(df.uganda$path.id)\n",
    "\n",
    "df.geo.regions <- rbind(df.uganda,df.rwanda,df.madagascar)\n",
    "\n",
    "head(df.geo.regions)"
   ]
  },
  {
   "cell_type": "markdown",
   "id": "6131da0b-1077-49e9-8b37-a4207ec252d2",
   "metadata": {},
   "source": [
    "#### Plotting the imported geometrical data"
   ]
  },
  {
   "cell_type": "code",
   "execution_count": 7,
   "id": "cc9d8198-9dd6-4cf2-81e3-b3f170afdce2",
   "metadata": {},
   "outputs": [
    {
     "data": {
      "image/png": "[encoded data removed]",
      "text/plain": [
       "plot without title"
      ]
     },
     "metadata": {
      "image/png": {
       "height": 900,
       "width": 900
      }
     },
     "output_type": "display_data"
    }
   ],
   "source": [
    "options(repr.plot.height=15,repr.plot.width=15)\n",
    "ggplot(df.geo.regions,aes(x,y,fill=region,group=path.id)) + geom_polygon(color=\"black\") + coord_fixed() #+ theme(legend.position=\"none\")"
   ]
  },
  {
   "cell_type": "markdown",
   "id": "2bb49ee0-18e9-4caf-9897-e340707ef413",
   "metadata": {},
   "source": [
    "### 4. Checking the resulting dataframe"
   ]
  },
  {
   "cell_type": "code",
   "execution_count": 8,
   "id": "eb0e9a98-25a3-4b84-82f7-7ea12bc9e471",
   "metadata": {},
   "outputs": [
    {
     "data": {
      "text/html": [
       "<table class=\"dataframe\">\n",
       "<caption>A tibble: 3 × 2</caption>\n",
       "<thead>\n",
       "\t<tr><th scope=col>country</th><th scope=col>regions.No</th></tr>\n",
       "\t<tr><th scope=col>&lt;chr&gt;</th><th scope=col>&lt;int&gt;</th></tr>\n",
       "</thead>\n",
       "<tbody>\n",
       "\t<tr><td>Madagascar</td><td>22</td></tr>\n",
       "\t<tr><td>Rwanda    </td><td> 5</td></tr>\n",
       "\t<tr><td>Uganda    </td><td> 4</td></tr>\n",
       "</tbody>\n",
       "</table>\n"
      ],
      "text/latex": [
       "A tibble: 3 × 2\n",
       "\\begin{tabular}{ll}\n",
       " country & regions.No\\\\\n",
       " <chr> & <int>\\\\\n",
       "\\hline\n",
       "\t Madagascar & 22\\\\\n",
       "\t Rwanda     &  5\\\\\n",
       "\t Uganda     &  4\\\\\n",
       "\\end{tabular}\n"
      ],
      "text/markdown": [
       "\n",
       "A tibble: 3 × 2\n",
       "\n",
       "| country &lt;chr&gt; | regions.No &lt;int&gt; |\n",
       "|---|---|\n",
       "| Madagascar | 22 |\n",
       "| Rwanda     |  5 |\n",
       "| Uganda     |  4 |\n",
       "\n"
      ],
      "text/plain": [
       "  country    regions.No\n",
       "1 Madagascar 22        \n",
       "2 Rwanda      5        \n",
       "3 Uganda      4        "
      ]
     },
     "metadata": {},
     "output_type": "display_data"
    }
   ],
   "source": [
    "df.geo.regions %>% group_by(country) %>% summarize(regions.No=n_distinct(region))"
   ]
  },
  {
   "cell_type": "code",
   "execution_count": 9,
   "id": "089a2a7c-216e-475e-836a-3cd6342c5fc1",
   "metadata": {},
   "outputs": [
    {
     "data": {
      "text/html": [
       "<style>\n",
       ".list-inline {list-style: none; margin:0; padding: 0}\n",
       ".list-inline>li {display: inline-block}\n",
       ".list-inline>li:not(:last-child)::after {content: \"\\00b7\"; padding: 0 .5ex}\n",
       "</style>\n",
       "<ol class=list-inline><li>'Central'</li><li>'Eastern'</li><li>'Northern'</li><li>'Western'</li></ol>\n"
      ],
      "text/latex": [
       "\\begin{enumerate*}\n",
       "\\item 'Central'\n",
       "\\item 'Eastern'\n",
       "\\item 'Northern'\n",
       "\\item 'Western'\n",
       "\\end{enumerate*}\n"
      ],
      "text/markdown": [
       "1. 'Central'\n",
       "2. 'Eastern'\n",
       "3. 'Northern'\n",
       "4. 'Western'\n",
       "\n",
       "\n"
      ],
      "text/plain": [
       "[1] \"Central\"  \"Eastern\"  \"Northern\" \"Western\" "
      ]
     },
     "metadata": {},
     "output_type": "display_data"
    }
   ],
   "source": [
    "unique(df.uganda$region)"
   ]
  },
  {
   "cell_type": "code",
   "execution_count": 10,
   "id": "69f48b4c-4ead-49f3-8090-910a88f4e106",
   "metadata": {},
   "outputs": [
    {
     "data": {
      "text/html": [
       "<style>\n",
       ".list-inline {list-style: none; margin:0; padding: 0}\n",
       ".list-inline>li {display: inline-block}\n",
       ".list-inline>li:not(:last-child)::after {content: \"\\00b7\"; padding: 0 .5ex}\n",
       "</style>\n",
       "<ol class=list-inline><li>'Eastern Province'</li><li>'City of Kigali'</li><li>'Northern Province'</li><li>'Southern Province'</li><li>'Western Province'</li></ol>\n"
      ],
      "text/latex": [
       "\\begin{enumerate*}\n",
       "\\item 'Eastern Province'\n",
       "\\item 'City of Kigali'\n",
       "\\item 'Northern Province'\n",
       "\\item 'Southern Province'\n",
       "\\item 'Western Province'\n",
       "\\end{enumerate*}\n"
      ],
      "text/markdown": [
       "1. 'Eastern Province'\n",
       "2. 'City of Kigali'\n",
       "3. 'Northern Province'\n",
       "4. 'Southern Province'\n",
       "5. 'Western Province'\n",
       "\n",
       "\n"
      ],
      "text/plain": [
       "[1] \"Eastern Province\"  \"City of Kigali\"    \"Northern Province\"\n",
       "[4] \"Southern Province\" \"Western Province\" "
      ]
     },
     "metadata": {},
     "output_type": "display_data"
    }
   ],
   "source": [
    "unique(df.rwanda$region)"
   ]
  },
  {
   "cell_type": "code",
   "execution_count": 11,
   "id": "7735eb69-2ea7-45c0-9c33-1da220352e27",
   "metadata": {},
   "outputs": [
    {
     "data": {
      "text/html": [
       "<style>\n",
       ".list-inline {list-style: none; margin:0; padding: 0}\n",
       ".list-inline>li {display: inline-block}\n",
       ".list-inline>li:not(:last-child)::after {content: \"\\00b7\"; padding: 0 .5ex}\n",
       "</style>\n",
       "<ol class=list-inline><li>'Alaotra-Mangoro'</li><li>'Amoron\\'i Mania'</li><li>'Analamanga'</li><li>'Analanjirofo'</li><li>'Androy'</li><li>'Anosy'</li><li>'Atsimo-Andrefana'</li><li>'Atsimo-Atsinanana'</li><li>'Atsinanana'</li><li>'Betsiboka'</li><li>'Boeny'</li><li>'Bongolava'</li><li>'Diana'</li><li>'Haute Matsiatra (Matsiatra Ambony)'</li><li>'Ihorombe'</li><li>'Itasy'</li><li>'Melaky'</li><li>'Menabe'</li><li>'Sava'</li><li>'Sofia'</li><li>'Vakinankaratra'</li><li>'Vatovavy-Fitovinany'</li></ol>\n"
      ],
      "text/latex": [
       "\\begin{enumerate*}\n",
       "\\item 'Alaotra-Mangoro'\n",
       "\\item 'Amoron\\textbackslash{}'i Mania'\n",
       "\\item 'Analamanga'\n",
       "\\item 'Analanjirofo'\n",
       "\\item 'Androy'\n",
       "\\item 'Anosy'\n",
       "\\item 'Atsimo-Andrefana'\n",
       "\\item 'Atsimo-Atsinanana'\n",
       "\\item 'Atsinanana'\n",
       "\\item 'Betsiboka'\n",
       "\\item 'Boeny'\n",
       "\\item 'Bongolava'\n",
       "\\item 'Diana'\n",
       "\\item 'Haute Matsiatra (Matsiatra Ambony)'\n",
       "\\item 'Ihorombe'\n",
       "\\item 'Itasy'\n",
       "\\item 'Melaky'\n",
       "\\item 'Menabe'\n",
       "\\item 'Sava'\n",
       "\\item 'Sofia'\n",
       "\\item 'Vakinankaratra'\n",
       "\\item 'Vatovavy-Fitovinany'\n",
       "\\end{enumerate*}\n"
      ],
      "text/markdown": [
       "1. 'Alaotra-Mangoro'\n",
       "2. 'Amoron\\'i Mania'\n",
       "3. 'Analamanga'\n",
       "4. 'Analanjirofo'\n",
       "5. 'Androy'\n",
       "6. 'Anosy'\n",
       "7. 'Atsimo-Andrefana'\n",
       "8. 'Atsimo-Atsinanana'\n",
       "9. 'Atsinanana'\n",
       "10. 'Betsiboka'\n",
       "11. 'Boeny'\n",
       "12. 'Bongolava'\n",
       "13. 'Diana'\n",
       "14. 'Haute Matsiatra (Matsiatra Ambony)'\n",
       "15. 'Ihorombe'\n",
       "16. 'Itasy'\n",
       "17. 'Melaky'\n",
       "18. 'Menabe'\n",
       "19. 'Sava'\n",
       "20. 'Sofia'\n",
       "21. 'Vakinankaratra'\n",
       "22. 'Vatovavy-Fitovinany'\n",
       "\n",
       "\n"
      ],
      "text/plain": [
       " [1] \"Alaotra-Mangoro\"                    \"Amoron'i Mania\"                    \n",
       " [3] \"Analamanga\"                         \"Analanjirofo\"                      \n",
       " [5] \"Androy\"                             \"Anosy\"                             \n",
       " [7] \"Atsimo-Andrefana\"                   \"Atsimo-Atsinanana\"                 \n",
       " [9] \"Atsinanana\"                         \"Betsiboka\"                         \n",
       "[11] \"Boeny\"                              \"Bongolava\"                         \n",
       "[13] \"Diana\"                              \"Haute Matsiatra (Matsiatra Ambony)\"\n",
       "[15] \"Ihorombe\"                           \"Itasy\"                             \n",
       "[17] \"Melaky\"                             \"Menabe\"                            \n",
       "[19] \"Sava\"                               \"Sofia\"                             \n",
       "[21] \"Vakinankaratra\"                     \"Vatovavy-Fitovinany\"               "
      ]
     },
     "metadata": {},
     "output_type": "display_data"
    }
   ],
   "source": [
    "sort(unique(df.madagascar$region))"
   ]
  },
  {
   "cell_type": "code",
   "execution_count": 12,
   "id": "f7e6a7a6-8455-406d-b28f-745100400ac4",
   "metadata": {},
   "outputs": [
    {
     "data": {
      "text/html": [
       "<table class=\"dataframe\">\n",
       "<caption>A data.frame: 18 × 6</caption>\n",
       "<thead>\n",
       "\t<tr><th scope=col>x</th><th scope=col>y</th><th scope=col>region</th><th scope=col>path.id</th><th scope=col>point.ix</th><th scope=col>country</th></tr>\n",
       "\t<tr><th scope=col>&lt;dbl&gt;</th><th scope=col>&lt;dbl&gt;</th><th scope=col>&lt;chr&gt;</th><th scope=col>&lt;dbl&gt;</th><th scope=col>&lt;int&gt;</th><th scope=col>&lt;chr&gt;</th></tr>\n",
       "</thead>\n",
       "<tbody>\n",
       "\t<tr><td>30.44970</td><td> -1.049094</td><td>Eastern Province</td><td> 1</td><td>1</td><td>Rwanda    </td></tr>\n",
       "\t<tr><td>30.44998</td><td> -1.049565</td><td>Eastern Province</td><td> 1</td><td>2</td><td>Rwanda    </td></tr>\n",
       "\t<tr><td>30.45002</td><td> -1.049227</td><td>Eastern Province</td><td> 1</td><td>3</td><td>Rwanda    </td></tr>\n",
       "\t<tr><td>30.45005</td><td> -1.048911</td><td>Eastern Province</td><td> 1</td><td>4</td><td>Rwanda    </td></tr>\n",
       "\t<tr><td>30.45008</td><td> -1.048537</td><td>Eastern Province</td><td> 1</td><td>5</td><td>Rwanda    </td></tr>\n",
       "\t<tr><td>30.45076</td><td> -1.048452</td><td>Eastern Province</td><td> 1</td><td>6</td><td>Rwanda    </td></tr>\n",
       "\t<tr><td>32.22046</td><td>  1.670968</td><td>Central         </td><td>64</td><td>1</td><td>Uganda    </td></tr>\n",
       "\t<tr><td>32.22140</td><td>  1.670771</td><td>Central         </td><td>64</td><td>2</td><td>Uganda    </td></tr>\n",
       "\t<tr><td>32.22305</td><td>  1.670426</td><td>Central         </td><td>64</td><td>3</td><td>Uganda    </td></tr>\n",
       "\t<tr><td>32.23025</td><td>  1.671126</td><td>Central         </td><td>64</td><td>4</td><td>Uganda    </td></tr>\n",
       "\t<tr><td>32.23222</td><td>  1.669040</td><td>Central         </td><td>64</td><td>5</td><td>Uganda    </td></tr>\n",
       "\t<tr><td>32.23661</td><td>  1.667703</td><td>Central         </td><td>64</td><td>6</td><td>Uganda    </td></tr>\n",
       "\t<tr><td>46.74249</td><td>-17.713212</td><td>Analamanga      </td><td>68</td><td>1</td><td>Madagascar</td></tr>\n",
       "\t<tr><td>46.74325</td><td>-17.713782</td><td>Analamanga      </td><td>68</td><td>2</td><td>Madagascar</td></tr>\n",
       "\t<tr><td>46.74403</td><td>-17.714192</td><td>Analamanga      </td><td>68</td><td>3</td><td>Madagascar</td></tr>\n",
       "\t<tr><td>46.74465</td><td>-17.714367</td><td>Analamanga      </td><td>68</td><td>4</td><td>Madagascar</td></tr>\n",
       "\t<tr><td>46.74540</td><td>-17.714270</td><td>Analamanga      </td><td>68</td><td>5</td><td>Madagascar</td></tr>\n",
       "\t<tr><td>46.74639</td><td>-17.714062</td><td>Analamanga      </td><td>68</td><td>6</td><td>Madagascar</td></tr>\n",
       "</tbody>\n",
       "</table>\n"
      ],
      "text/latex": [
       "A data.frame: 18 × 6\n",
       "\\begin{tabular}{llllll}\n",
       " x & y & region & path.id & point.ix & country\\\\\n",
       " <dbl> & <dbl> & <chr> & <dbl> & <int> & <chr>\\\\\n",
       "\\hline\n",
       "\t 30.44970 &  -1.049094 & Eastern Province &  1 & 1 & Rwanda    \\\\\n",
       "\t 30.44998 &  -1.049565 & Eastern Province &  1 & 2 & Rwanda    \\\\\n",
       "\t 30.45002 &  -1.049227 & Eastern Province &  1 & 3 & Rwanda    \\\\\n",
       "\t 30.45005 &  -1.048911 & Eastern Province &  1 & 4 & Rwanda    \\\\\n",
       "\t 30.45008 &  -1.048537 & Eastern Province &  1 & 5 & Rwanda    \\\\\n",
       "\t 30.45076 &  -1.048452 & Eastern Province &  1 & 6 & Rwanda    \\\\\n",
       "\t 32.22046 &   1.670968 & Central          & 64 & 1 & Uganda    \\\\\n",
       "\t 32.22140 &   1.670771 & Central          & 64 & 2 & Uganda    \\\\\n",
       "\t 32.22305 &   1.670426 & Central          & 64 & 3 & Uganda    \\\\\n",
       "\t 32.23025 &   1.671126 & Central          & 64 & 4 & Uganda    \\\\\n",
       "\t 32.23222 &   1.669040 & Central          & 64 & 5 & Uganda    \\\\\n",
       "\t 32.23661 &   1.667703 & Central          & 64 & 6 & Uganda    \\\\\n",
       "\t 46.74249 & -17.713212 & Analamanga       & 68 & 1 & Madagascar\\\\\n",
       "\t 46.74325 & -17.713782 & Analamanga       & 68 & 2 & Madagascar\\\\\n",
       "\t 46.74403 & -17.714192 & Analamanga       & 68 & 3 & Madagascar\\\\\n",
       "\t 46.74465 & -17.714367 & Analamanga       & 68 & 4 & Madagascar\\\\\n",
       "\t 46.74540 & -17.714270 & Analamanga       & 68 & 5 & Madagascar\\\\\n",
       "\t 46.74639 & -17.714062 & Analamanga       & 68 & 6 & Madagascar\\\\\n",
       "\\end{tabular}\n"
      ],
      "text/markdown": [
       "\n",
       "A data.frame: 18 × 6\n",
       "\n",
       "| x &lt;dbl&gt; | y &lt;dbl&gt; | region &lt;chr&gt; | path.id &lt;dbl&gt; | point.ix &lt;int&gt; | country &lt;chr&gt; |\n",
       "|---|---|---|---|---|---|\n",
       "| 30.44970 |  -1.049094 | Eastern Province |  1 | 1 | Rwanda     |\n",
       "| 30.44998 |  -1.049565 | Eastern Province |  1 | 2 | Rwanda     |\n",
       "| 30.45002 |  -1.049227 | Eastern Province |  1 | 3 | Rwanda     |\n",
       "| 30.45005 |  -1.048911 | Eastern Province |  1 | 4 | Rwanda     |\n",
       "| 30.45008 |  -1.048537 | Eastern Province |  1 | 5 | Rwanda     |\n",
       "| 30.45076 |  -1.048452 | Eastern Province |  1 | 6 | Rwanda     |\n",
       "| 32.22046 |   1.670968 | Central          | 64 | 1 | Uganda     |\n",
       "| 32.22140 |   1.670771 | Central          | 64 | 2 | Uganda     |\n",
       "| 32.22305 |   1.670426 | Central          | 64 | 3 | Uganda     |\n",
       "| 32.23025 |   1.671126 | Central          | 64 | 4 | Uganda     |\n",
       "| 32.23222 |   1.669040 | Central          | 64 | 5 | Uganda     |\n",
       "| 32.23661 |   1.667703 | Central          | 64 | 6 | Uganda     |\n",
       "| 46.74249 | -17.713212 | Analamanga       | 68 | 1 | Madagascar |\n",
       "| 46.74325 | -17.713782 | Analamanga       | 68 | 2 | Madagascar |\n",
       "| 46.74403 | -17.714192 | Analamanga       | 68 | 3 | Madagascar |\n",
       "| 46.74465 | -17.714367 | Analamanga       | 68 | 4 | Madagascar |\n",
       "| 46.74540 | -17.714270 | Analamanga       | 68 | 5 | Madagascar |\n",
       "| 46.74639 | -17.714062 | Analamanga       | 68 | 6 | Madagascar |\n",
       "\n"
      ],
      "text/plain": [
       "   x        y          region           path.id point.ix country   \n",
       "1  30.44970  -1.049094 Eastern Province  1      1        Rwanda    \n",
       "2  30.44998  -1.049565 Eastern Province  1      2        Rwanda    \n",
       "3  30.45002  -1.049227 Eastern Province  1      3        Rwanda    \n",
       "4  30.45005  -1.048911 Eastern Province  1      4        Rwanda    \n",
       "5  30.45008  -1.048537 Eastern Province  1      5        Rwanda    \n",
       "6  30.45076  -1.048452 Eastern Province  1      6        Rwanda    \n",
       "7  32.22046   1.670968 Central          64      1        Uganda    \n",
       "8  32.22140   1.670771 Central          64      2        Uganda    \n",
       "9  32.22305   1.670426 Central          64      3        Uganda    \n",
       "10 32.23025   1.671126 Central          64      4        Uganda    \n",
       "11 32.23222   1.669040 Central          64      5        Uganda    \n",
       "12 32.23661   1.667703 Central          64      6        Uganda    \n",
       "13 46.74249 -17.713212 Analamanga       68      1        Madagascar\n",
       "14 46.74325 -17.713782 Analamanga       68      2        Madagascar\n",
       "15 46.74403 -17.714192 Analamanga       68      3        Madagascar\n",
       "16 46.74465 -17.714367 Analamanga       68      4        Madagascar\n",
       "17 46.74540 -17.714270 Analamanga       68      5        Madagascar\n",
       "18 46.74639 -17.714062 Analamanga       68      6        Madagascar"
      ]
     },
     "metadata": {},
     "output_type": "display_data"
    }
   ],
   "source": [
    "rbind(head(df.geo.regions %>% filter(country==\"Rwanda\")),\n",
    "      head(df.geo.regions %>% filter(country==\"Uganda\")),\n",
    "      head(df.geo.regions %>% filter(country==\"Madagascar\"))\n",
    "     )"
   ]
  },
  {
   "cell_type": "markdown",
   "id": "5cb83460-9b33-4af1-9634-fc2c380dd16e",
   "metadata": {},
   "source": [
    "### 5. Exporting the resulting dataframe to RData file"
   ]
  },
  {
   "cell_type": "code",
   "execution_count": 13,
   "id": "a4545498-f531-48fb-8a19-d31edd22b4c1",
   "metadata": {},
   "outputs": [],
   "source": [
    "save(df.geo.regions, file = \"data/df_geo_regions.RData\")"
   ]
  }
 ],
 "metadata": {
  "kernelspec": {
   "display_name": "R",
   "language": "R",
   "name": "ir"
  },
  "language_info": {
   "codemirror_mode": "r",
   "file_extension": ".r",
   "mimetype": "text/x-r-source",
   "name": "R",
   "pygments_lexer": "r",
   "version": "4.4.1"
  }
 },
 "nbformat": 4,
 "nbformat_minor": 5
}
